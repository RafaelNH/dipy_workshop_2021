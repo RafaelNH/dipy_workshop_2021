{
 "cells": [
  {
   "cell_type": "markdown",
   "metadata": {},
   "source": [
    "### Reconstruction of the diffusion signal with the WMTI model"
   ]
  },
  {
   "cell_type": "markdown",
   "metadata": {},
   "source": [
    "DKI can also be used to derive concrete biophysical parameters by applying microstructural models to DT and KT estimated from DKI. For instance, Fieremans et al. ([Fierem2011](https://www.sciencedirect.com/science/article/abs/pii/S1053811911006148)) showed that DKI can be converted to the parameters of two diffusion tensor model - a model that was later referred to as the white matter tract integrity WMTI technique ([Fierem2013](https://pubmed.ncbi.nlm.nih.gov/23764722/)). According to previous studies (e.g.[Hubber2018](https://www.sciencedirect.com/science/article/pii/S1878929318301348?via%3Dihub), [Fierem2013](https://pubmed.ncbi.nlm.nih.gov/23764722/), [Hui2012](https://pubmed.ncbi.nlm.nih.gov/22933581/)), this model showed to be useful to characterize microstructural alterations from health and disease.\n",
    "\n",
    "In this example, we show how to process a dMRI dataset using the WMTI model.\n",
    "\n",
    "First, we import all relevant modules:"
   ]
  },
  {
   "cell_type": "code",
   "execution_count": 1,
   "metadata": {},
   "outputs": [],
   "source": [
    "import numpy as np\n",
    "import matplotlib.pyplot as plt\n",
    "import dipy.reconst.dki as dki\n",
    "import dipy.reconst.dki_micro as dki_micro\n",
    "from dipy.core.gradients import gradient_table\n",
    "from dipy.data import get_fnames\n",
    "from dipy.io.gradients import read_bvals_bvecs\n",
    "from dipy.io.image import load_nifti\n",
    "from dipy.segment.mask import median_otsu\n",
    "from scipy.ndimage.filters import gaussian_filter"
   ]
  },
  {
   "cell_type": "markdown",
   "metadata": {},
   "source": [
    "As the standard DKI, WMTI requires multi-shell data, i.e. data acquired from more than one non-zero b-value. Here, we use a fetcher to download the CFIN multi-shell dataset."
   ]
  },
  {
   "cell_type": "code",
   "execution_count": 2,
   "metadata": {},
   "outputs": [],
   "source": [
    "fraw, fbval, fbvec, t1_fname = get_fnames('cfin_multib')\n",
    "\n",
    "data, affine = load_nifti(fraw)\n",
    "bvals, bvecs = read_bvals_bvecs(fbval, fbvec)\n",
    "gtab = gradient_table(bvals, bvecs)"
   ]
  },
  {
   "cell_type": "markdown",
   "metadata": {},
   "source": [
    "## 1) Pre-processing"
   ]
  },
  {
   "cell_type": "code",
   "execution_count": 3,
   "metadata": {},
   "outputs": [],
   "source": [
    "# data masking\n",
    "maskdata, mask = median_otsu(data, vol_idx=[0, 1], median_radius=4, numpass=2,\n",
    "                             autocrop=False, dilate=1)\n",
    "\n",
    "# Smoothing\n",
    "fwhm = 1.25\n",
    "gauss_std = fwhm / np.sqrt(8 * np.log(2))\n",
    "data_smooth = np.zeros(data.shape)\n",
    "for v in range(data.shape[-1]):\n",
    "    data_smooth[..., v] = gaussian_filter(data[..., v], sigma=gauss_std)"
   ]
  },
  {
   "cell_type": "markdown",
   "metadata": {},
   "source": [
    "Before fitting this microstructural model, it is useful to indicate the regions in which this model provides meaningful information (i.e. voxels of well-aligned fibers). Following Fieremans et al. ([Fieremans2011](https://www.sciencedirect.com/science/article/abs/pii/S1053811911006148)), a simple way to select this region is to generate a well-aligned fiber mask based on the values of diffusion sphericity, planarity and linearity. Here we will follow these selection criteria for a better comparison of our figures with the original article published by Fieremans et al. ([Fieremans2011](https://www.sciencedirect.com/science/article/abs/pii/S1053811911006148)). Nevertheless, it is important to note that voxels with well-aligned fibers can be selected based on other approaches such as using predefined regions of interest."
   ]
  },
  {
   "cell_type": "code",
   "execution_count": 4,
   "metadata": {},
   "outputs": [
    {
     "name": "stderr",
     "output_type": "stream",
     "text": [
      "C:\\Users\\rafae\\anaconda3\\envs\\dipy_release\\lib\\site-packages\\dipy\\reconst\\dti.py:533: RuntimeWarning: invalid value encountered in true_divide\n",
      "  return (ev1 - ev2) / evals.sum(0)\n",
      "<ipython-input-4-4dcbaffcdc8d>:11: RuntimeWarning: invalid value encountered in less\n",
      "  well_aligned_mask[cl < 0.4] = False\n",
      "C:\\Users\\rafae\\anaconda3\\envs\\dipy_release\\lib\\site-packages\\dipy\\reconst\\dti.py:569: RuntimeWarning: invalid value encountered in true_divide\n",
      "  return (2 * (ev2 - ev3) / evals.sum(0))\n",
      "<ipython-input-4-4dcbaffcdc8d>:16: RuntimeWarning: invalid value encountered in greater\n",
      "  well_aligned_mask[cp > 0.2] = False\n",
      "C:\\Users\\rafae\\anaconda3\\envs\\dipy_release\\lib\\site-packages\\dipy\\reconst\\dti.py:604: RuntimeWarning: invalid value encountered in true_divide\n",
      "  return (3 * ev3) / evals.sum(0)\n",
      "<ipython-input-4-4dcbaffcdc8d>:21: RuntimeWarning: invalid value encountered in greater\n",
      "  well_aligned_mask[cs > 0.35] = False\n"
     ]
    }
   ],
   "source": [
    "# Diffusion Tensor is computed based on the standard DKI model\n",
    "dkimodel = dki.DiffusionKurtosisModel(gtab)\n",
    "dkifit = dkimodel.fit(data_smooth, mask=mask)\n",
    "\n",
    "# Initialize well aligned mask with ones\n",
    "well_aligned_mask = np.ones(data.shape[:-1], dtype='bool')\n",
    "\n",
    "# Diffusion coefficient of linearity (cl) has to be larger than 0.4, thus\n",
    "# we exclude voxels with cl < 0.4.\n",
    "cl = dkifit.linearity.copy()\n",
    "well_aligned_mask[cl < 0.4] = False\n",
    "\n",
    "# Diffusion coefficient of planarity (cp) has to be lower than 0.2, thus\n",
    "# we exclude voxels with cp > 0.2.\n",
    "cp = dkifit.planarity.copy()\n",
    "well_aligned_mask[cp > 0.2] = False\n",
    "\n",
    "# Diffusion coefficient of sphericity (cs) has to be lower than 0.35, thus\n",
    "# we exclude voxels with cs > 0.35.\n",
    "cs = dkifit.sphericity.copy()\n",
    "well_aligned_mask[cs > 0.35] = False\n",
    "\n",
    "# Removing nan associated with background voxels\n",
    "well_aligned_mask[np.isnan(cl)] = False\n",
    "well_aligned_mask[np.isnan(cp)] = False\n",
    "well_aligned_mask[np.isnan(cs)] = False"
   ]
  },
  {
   "cell_type": "markdown",
   "metadata": {},
   "source": [
    "## 2) WMTI fitting\n",
    "\n",
    "The WMTI model can be defined in DIPY by instantiating the ‘KurtosisMicrostructureModel’ object in the following way:"
   ]
  },
  {
   "cell_type": "code",
   "execution_count": 5,
   "metadata": {},
   "outputs": [],
   "source": [
    "dki_micro_model = dki_micro.KurtosisMicrostructureModel(gtab)"
   ]
  },
  {
   "cell_type": "markdown",
   "metadata": {},
   "source": [
    "Analogous to DKI, the data fit can be done by calling the fit function of the model’s object as follows:"
   ]
  },
  {
   "cell_type": "code",
   "execution_count": 6,
   "metadata": {},
   "outputs": [],
   "source": [
    "dki_micro_fit = dki_micro_model.fit(data_smooth, mask=well_aligned_mask)"
   ]
  },
  {
   "cell_type": "markdown",
   "metadata": {},
   "source": [
    "The KurtosisMicrostructureFit object created by this fit function can then be used to extract model parameters such as the axonal water fraction and diffusion hindered tortuosity:"
   ]
  },
  {
   "cell_type": "code",
   "execution_count": 7,
   "metadata": {},
   "outputs": [],
   "source": [
    "AWF = dki_micro_fit.awf\n",
    "TORT = dki_micro_fit.tortuosity"
   ]
  },
  {
   "cell_type": "markdown",
   "metadata": {},
   "source": [
    "## 3) Data plotting\n",
    "These parameters are plotted below on top of the mean kurtosis maps:"
   ]
  },
  {
   "cell_type": "code",
   "execution_count": 8,
   "metadata": {},
   "outputs": [
    {
     "data": {
      "image/png": "[encoded data removed]",
      "text/plain": [
       "<Figure size 648x288 with 4 Axes>"
      ]
     },
     "metadata": {
      "needs_background": "light"
     },
     "output_type": "display_data"
    }
   ],
   "source": [
    "MK = dkifit.mk(0, 3)\n",
    "\n",
    "axial_slice = 9\n",
    "\n",
    "fig1, ax = plt.subplots(1, 2, figsize=(9, 4),\n",
    "                        subplot_kw={'xticks': [], 'yticks': []})\n",
    "\n",
    "AWF[AWF == 0] = np.nan\n",
    "TORT[TORT == 0] = np.nan\n",
    "\n",
    "ax[0].imshow(MK[:, :, axial_slice].T, cmap=plt.cm.gray,\n",
    "             interpolation='nearest', origin='lower')\n",
    "im0 = ax[0].imshow(AWF[:, :, axial_slice].T, cmap=plt.cm.Reds, alpha=0.9,\n",
    "                   vmin=0.3, vmax=0.7, interpolation='nearest', origin='lower')\n",
    "fig1.colorbar(im0, ax=ax.flat[0])\n",
    "\n",
    "ax[1].imshow(MK[:, :, axial_slice].T, cmap=plt.cm.gray,\n",
    "             interpolation='nearest', origin='lower')\n",
    "im1 = ax[1].imshow(TORT[:, :, axial_slice].T, cmap=plt.cm.Blues, alpha=0.9,\n",
    "                   vmin=2, vmax=6, interpolation='nearest', origin='lower')\n",
    "fig1.colorbar(im1, ax=ax.flat[1])\n",
    "\n",
    "fig1.savefig('Kurtosis_Microstructural_measures.png')"
   ]
  },
  {
   "cell_type": "code",
   "execution_count": 13,
   "metadata": {},
   "outputs": [
    {
     "data": {
      "image/png": "[encoded data removed]",
      "text/plain": [
       "<Figure size 648x288 with 2 Axes>"
      ]
     },
     "metadata": {
      "needs_background": "light"
     },
     "output_type": "display_data"
    }
   ],
   "source": [
    "fig2, axs = plt.subplots(1, 2, figsize=(9, 4),\n",
    "                        subplot_kw={'xticks': [], 'yticks': []})\n",
    "\n",
    "# Ploting histogram\n",
    "x = AWF[well_aligned_mask].flatten()\n",
    "x = x[~np.isnan(x)]\n",
    "x = x[x > 0]\n",
    "N, bins, patches = plt.hist(x, bins=20, range=(0, 1))\n",
    "N = N / N.sum()\n",
    "axs.flat[0].clear()\n",
    "axs.flat[0].bar(bins[:-1] + 0.025, N, width=0.05,\n",
    "                edgecolor=[0, 0, 0], color=[1, 0, 0])\n",
    "axs.flat[0].set_xlabel('AWF')\n",
    "axs.flat[0].set_xlim(0, 1)\n",
    "\n",
    "x = TORT[well_aligned_mask].flatten()\n",
    "x = x[~np.isnan(x)]\n",
    "x = x[x > 0]\n",
    "N, bins, patches = plt.hist(x, bins=20, range=(0, 10))\n",
    "N = N / N.sum()\n",
    "axs.flat[1].clear()\n",
    "axs.flat[1].bar(bins[:-1] + 0.25, N, width=0.5,\n",
    "                edgecolor=[0, 0, 0], color=[0, 0, 1])\n",
    "axs.flat[1].set_xlabel('TORT')\n",
    "axs.flat[1].set_xlim(2, 10)\n",
    "\n",
    "fig2.savefig('WMTI_histograms.png', bbox_inches='tight')\n",
    "plt.show()"
   ]
  },
  {
   "cell_type": "code",
   "execution_count": null,
   "metadata": {},
   "outputs": [],
   "source": []
  }
 ],
 "metadata": {
  "kernelspec": {
   "display_name": "Python 3",
   "language": "python",
   "name": "python3"
  },
  "language_info": {
   "codemirror_mode": {
    "name": "ipython",
    "version": 3
   },
   "file_extension": ".py",
   "mimetype": "text/x-python",
   "name": "python",
   "nbconvert_exporter": "python",
   "pygments_lexer": "ipython3",
   "version": "3.8.3"
  }
 },
 "nbformat": 4,
 "nbformat_minor": 4
}
